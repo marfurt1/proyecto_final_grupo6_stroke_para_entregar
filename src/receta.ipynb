{
  "cells": [
    {
      "cell_type": "code",
      "execution_count": null,
      "metadata": {
        "id": "YWLpOrrjbzT1"
      },
      "outputs": [],
      "source": [
        "# Step 0. Load libraries and modules\n",
        "import pandas as pd\n",
        "import numpy as np\n",
        "import matplotlib.pyplot as plt\n",
        "import plotly.express as px\n",
        "import statsmodels.formula.api as smf\n",
        "from sklearn.linear_model import LinearRegression\n",
        "from sklearn.preprocessing import MinMaxScaler\n",
        "from sklearn.model_selection import train_test_split\n",
        "from sklearn.metrics import mean_squared_error, r2_score"
      ]
    },
    {
      "cell_type": "code",
      "execution_count": null,
      "metadata": {
        "id": "AHNeLYx_bzT3"
      },
      "outputs": [],
      "source": [
        "# Step 1. Load the dataset\n",
        "# Credits:  California Cooperative Oceanic Fisheries Investigations\n",
        "# URL: https://www.kaggle.com/datasets/sohier/calcofi?select=bottle.csv\n",
        "# Drescription: The CalCOFI data set represents the longest (1949-present) \n",
        "# and most complete (more than 50,000 sampling stations) time series of \n",
        "# oceanographic and larval fish data in the world. It includes abundance \n",
        "# data on the larvae of over 250 species of fish; larval length frequency \n",
        "# data and egg abundance data on key commercial species; and oceanographic \n",
        "# and plankton data. The physical, chemical, and biological data collected \n",
        "# at regular time and space intervals quickly became valuable for \n",
        "# documenting climatic cycles in the California Current and a range of \n",
        "# biological responses to them. \n",
        "df_raw = pd.read_csv('data/raw/calcofi_reduced.csv')"
      ]
    },
    {
      "cell_type": "code",
      "execution_count": null,
      "metadata": {
        "id": "HeHTAkTVbzT5"
      },
      "outputs": [],
      "source": [
        "# 1.1 Get basic info"
      ]
    },
    {
      "cell_type": "code",
      "execution_count": null,
      "metadata": {
        "id": "uCPTZF7abzT7"
      },
      "outputs": [],
      "source": [
        "# 1.2 Take a sample"
      ]
    },
    {
      "cell_type": "code",
      "execution_count": null,
      "metadata": {
        "id": "HjhRr7-zbzT8"
      },
      "outputs": [],
      "source": [
        "# 1.3 Transform if needed"
      ]
    },
    {
      "cell_type": "code",
      "execution_count": null,
      "metadata": {
        "id": "WEJl9OU_bzT8"
      },
      "outputs": [],
      "source": [
        "# Step 2. Make a basic EDA"
      ]
    },
    {
      "cell_type": "code",
      "execution_count": null,
      "metadata": {
        "id": "jN-aL6BtbzT9"
      },
      "outputs": [],
      "source": [
        "# 2.1 Split the dataset so to avoid bias"
      ]
    },
    {
      "cell_type": "code",
      "execution_count": null,
      "metadata": {
        "id": "ZKVC5JOcbzT-"
      },
      "outputs": [],
      "source": [
        "# 2.2 Join the train sets to ease insights"
      ]
    },
    {
      "cell_type": "code",
      "execution_count": null,
      "metadata": {
        "id": "Jid-MoDIbzT_"
      },
      "outputs": [],
      "source": [
        "# 2.3 Get basic info"
      ]
    },
    {
      "cell_type": "code",
      "execution_count": null,
      "metadata": {
        "id": "T8npmBvPbzUB"
      },
      "outputs": [],
      "source": [
        "# 2.4 Take a sample"
      ]
    },
    {
      "cell_type": "code",
      "execution_count": null,
      "metadata": {
        "id": "aveecR2fbzUC"
      },
      "outputs": [],
      "source": [
        "# 2.5 Describe the numerical and date variables"
      ]
    },
    {
      "cell_type": "code",
      "execution_count": null,
      "metadata": {
        "id": "UwKdSqSjbzUD"
      },
      "outputs": [],
      "source": [
        "# 2.6 Describe the categorical variables"
      ]
    },
    {
      "cell_type": "code",
      "execution_count": null,
      "metadata": {
        "id": "E3AWLNe0bzUE"
      },
      "outputs": [],
      "source": [
        "# 2.7 Perform univariate analysis - histograms"
      ]
    },
    {
      "cell_type": "code",
      "execution_count": null,
      "metadata": {
        "id": "GNCXE7dEbzUE"
      },
      "outputs": [],
      "source": [
        "# 2.8 Perform univariate analysis - boxplots"
      ]
    },
    {
      "cell_type": "code",
      "execution_count": null,
      "metadata": {
        "id": "hZ3lngnbbzUF"
      },
      "outputs": [],
      "source": [
        "# 2.9 Perform bivariate analysis - scatter matrix"
      ]
    },
    {
      "cell_type": "code",
      "execution_count": null,
      "metadata": {
        "id": "g6Mt2-ykbzUF"
      },
      "outputs": [],
      "source": [
        "# 2.10 Perform correlation analysis - Pearson or Point Biserial"
      ]
    },
    {
      "cell_type": "code",
      "execution_count": null,
      "metadata": {
        "id": "AIv9_b1FbzUG"
      },
      "outputs": [],
      "source": [
        "# 2.11 Perform multivariate analysis - VIF"
      ]
    },
    {
      "cell_type": "code",
      "execution_count": null,
      "metadata": {
        "id": "10sfqIPDbzUH"
      },
      "outputs": [],
      "source": [
        "# Step 3. Create and evaluate model - Define your approach and goals"
      ]
    },
    {
      "cell_type": "code",
      "execution_count": null,
      "metadata": {
        "id": "uoNqMzQCbzUH"
      },
      "outputs": [],
      "source": [
        "# 3.1 Perform model fit - A"
      ]
    },
    {
      "cell_type": "code",
      "execution_count": null,
      "metadata": {
        "id": "VMgQ0ma8bzUI"
      },
      "outputs": [],
      "source": [
        "# 3.2 Perform model fit - B"
      ]
    },
    {
      "cell_type": "code",
      "execution_count": null,
      "metadata": {
        "id": "OgDj-iO1bzUI"
      },
      "outputs": [],
      "source": [
        "# 3.3 Calculate metrics on model A"
      ]
    },
    {
      "cell_type": "code",
      "execution_count": null,
      "metadata": {
        "id": "QdRMkBARbzUJ"
      },
      "outputs": [],
      "source": [
        "# 3.4 Calculate metrics on model B"
      ]
    },
    {
      "cell_type": "code",
      "execution_count": null,
      "metadata": {
        "id": "h0jIE1KybzUJ"
      },
      "outputs": [],
      "source": [
        "# Step 4. Write up your conclusions"
      ]
    }
  ],
  "metadata": {
    "colab": {
      "provenance": []
    },
    "kernelspec": {
      "display_name": "Python 3.8.13 64-bit ('3.8.13')",
      "language": "python",
      "name": "python3"
    },
    "language_info": {
      "name": "python",
      "version": "3.8.13"
    },
    "orig_nbformat": 4,
    "vscode": {
      "interpreter": {
        "hash": "110cc1dee26208153f2972f08a2ad52b6a56238dc66d48e87fb757ef2996db56"
      }
    }
  },
  "nbformat": 4,
  "nbformat_minor": 0
}
